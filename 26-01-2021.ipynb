{
 "cells": [
  {
   "cell_type": "code",
   "execution_count": 9,
   "metadata": {},
   "outputs": [
    {
     "name": "stdout",
     "output_type": "stream",
     "text": [
      "10\n",
      "9\n",
      "8\n",
      "7\n",
      "6\n",
      "5\n",
      "4\n",
      "3\n",
      "2\n",
      "1\n",
      "0\n"
     ]
    }
   ],
   "source": [
    "### reverse number\n",
    "i=10\n",
    "while(i>=0):\n",
    "    print(i)\n",
    "    i-=1"
   ]
  },
  {
   "cell_type": "code",
   "execution_count": 9,
   "metadata": {},
   "outputs": [
    {
     "name": "stdout",
     "output_type": "stream",
     "text": [
      "enter the number9\n",
      "the given numbe is not perfect number\n"
     ]
    }
   ],
   "source": [
    "# to find whethr a given number is perfect or not\n",
    "n = int(input(\"enter the number\"))\n",
    "sum = 0\n",
    "for i in range(1,n):\n",
    "    if(n%i==0):\n",
    "        sum+=i\n",
    "if(sum==n):\n",
    "    print(\"THE GIVEN NUMBER IS PERFECT NUMBER\")\n",
    "else:\n",
    "    print(\"the given numbe is not perfect number\")\n"
   ]
  },
  {
   "cell_type": "code",
   "execution_count": null,
   "metadata": {
    "scrolled": true
   },
   "outputs": [],
   "source": [
    " # printing the given number of tables\n",
    "t = int(input(\"enter the table number\"))\n",
    "t_length = int(input(\"enter the table length\"))\n",
    "for i in range(1,t+1):\n",
    "    for j in range(1,t_length+1):\n",
    "        print(\"{} * {} = {}.format\",i,j,i*j)"
   ]
  },
  {
   "cell_type": "code",
   "execution_count": 5,
   "metadata": {},
   "outputs": [
    {
     "name": "stdout",
     "output_type": "stream",
     "text": [
      "1234"
     ]
    }
   ],
   "source": [
    "# break: it is used to terminate the loop\n",
    "for i in range(1,10):\n",
    "    if i==5:\n",
    "        break\n",
    "    print(i,end = '')"
   ]
  },
  {
   "cell_type": "code",
   "execution_count": 6,
   "metadata": {},
   "outputs": [
    {
     "name": "stdout",
     "output_type": "stream",
     "text": [
      "12346789"
     ]
    }
   ],
   "source": [
    "# continoue: it is used to skip the current itteration\n",
    "for i in range(1,10):\n",
    "    if i == 5:\n",
    "        continue\n",
    "    print(i,end = '')     "
   ]
  },
  {
   "cell_type": "markdown",
   "metadata": {},
   "source": [
    "# FUNCTIONS:\n",
    "- block of statements are placed under the curly braces to perform some task:\n",
    "### ADVANTAGES:\n",
    "- code reusability \n",
    "- readbulity\n",
    "- code reduce\n",
    "- time decrease\n",
    "### TYPES OF THE FUNCTIONS:\n",
    "- there are three types of functions are there\n",
    "- 1.inbuilt/default functions\n",
    "    - Ex. these are predefined like .print,.sum,.max,.int,  \n",
    "- 2. user define functions:\n",
    "    - 1.function creation:\n",
    "         - 1.function decleration:\n",
    "            def FunctionName(arg):\n",
    "         - 2.function defnition :\n",
    "            statements\n",
    "- 3. special functions/annonymus functions\n",
    "     -lambda,comprehension,iterators,map"
   ]
  },
  {
   "cell_type": "code",
   "execution_count": 15,
   "metadata": {},
   "outputs": [
    {
     "name": "stdout",
     "output_type": "stream",
     "text": [
      "9\n"
     ]
    }
   ],
   "source": [
    " # function creation:\n",
    "def add(a,b):\n",
    "    print(a+b)\n",
    "add(4,5)    \n",
    "        "
   ]
  },
  {
   "cell_type": "code",
   "execution_count": 2,
   "metadata": {},
   "outputs": [
    {
     "name": "stdout",
     "output_type": "stream",
     "text": [
      "9\n",
      "4\n"
     ]
    }
   ],
   "source": [
    "def add(a,b) :\n",
    "    print(a+b)\n",
    "    return a\n",
    "a = add(4,5)\n",
    "print(a)"
   ]
  },
  {
   "cell_type": "code",
   "execution_count": 1,
   "metadata": {},
   "outputs": [
    {
     "name": "stdout",
     "output_type": "stream",
     "text": [
      "9\n",
      "4 5\n"
     ]
    }
   ],
   "source": [
    "def add(a,b):\n",
    "    print(a+b)\n",
    "    return a,b\n",
    "a,b = add(4,5)\n",
    "print(a,b)"
   ]
  },
  {
   "cell_type": "code",
   "execution_count": 2,
   "metadata": {},
   "outputs": [
    {
     "name": "stdout",
     "output_type": "stream",
     "text": [
      "5\n"
     ]
    }
   ],
   "source": [
    "def sub(a,b):\n",
    "    print(a-b)\n",
    "sub(20,15)    "
   ]
  },
  {
   "cell_type": "code",
   "execution_count": 14,
   "metadata": {},
   "outputs": [
    {
     "name": "stdout",
     "output_type": "stream",
     "text": [
      "enter the n value:5\n",
      "number is factor of 10\n",
      "enter the n value:2\n",
      "number is factor of 10\n",
      "None\n"
     ]
    }
   ],
   "source": [
    "#1. without arguments and without rturn value\n",
    "def f1():\n",
    "    n = int(input(\"enter the n value:\"))\n",
    "    if 10%n == 0:\n",
    "        print(\"number is factor of 10\")\n",
    "    else:\n",
    "        print(\"number is not a factor of 10\")\n",
    "f1()\n",
    "n=f1()\n",
    "print(n)"
   ]
  },
  {
   "cell_type": "code",
   "execution_count": 9,
   "metadata": {},
   "outputs": [
    {
     "name": "stdout",
     "output_type": "stream",
     "text": [
      "enter the n1 value5\n",
      "enter the n2 value5\n",
      "addition,substraction,multiplication,division 10 0 25 1.0\n"
     ]
    }
   ],
   "source": [
    "#2 without arguments and with return value\n",
    "def f2():\n",
    "    n1 = int(input(\"enter the n1 value\"))\n",
    "    n2 = int(input(\"enter the n2 value\"))\n",
    "    return n1+n2,n1-n2,n1*n2,n1/n2\n",
    "a,b,c,d = f2()\n",
    "print(\"addition,substraction,multiplication,division\",a,b,c,d)"
   ]
  },
  {
   "cell_type": "code",
   "execution_count": null,
   "metadata": {},
   "outputs": [],
   "source": []
  }
 ],
 "metadata": {
  "kernelspec": {
   "display_name": "Python 3",
   "language": "python",
   "name": "python3"
  },
  "language_info": {
   "codemirror_mode": {
    "name": "ipython",
    "version": 3
   },
   "file_extension": ".py",
   "mimetype": "text/x-python",
   "name": "python",
   "nbconvert_exporter": "python",
   "pygments_lexer": "ipython3",
   "version": "3.7.4"
  }
 },
 "nbformat": 4,
 "nbformat_minor": 2
}
